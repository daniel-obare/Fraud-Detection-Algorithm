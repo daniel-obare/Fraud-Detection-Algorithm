{
 "cells": [
  {
   "cell_type": "markdown",
   "metadata": {},
   "source": [
    "# Model Selection and Variable importance"
   ]
  },
  {
   "cell_type": "code",
   "execution_count": 1,
   "metadata": {},
   "outputs": [],
   "source": [
    "import pandas as pd\n",
    "import numpy as np\n",
    "import warnings\n",
    "warnings.filterwarnings('ignore')"
   ]
  },
  {
   "cell_type": "code",
   "execution_count": 2,
   "metadata": {},
   "outputs": [
    {
     "name": "stdout",
     "output_type": "stream",
     "text": [
      "Train data shape: 4476738 Rows, 46 Columns\n",
      "Test data shape: 1939722 Rows, 45 Columns\n"
     ]
    }
   ],
   "source": [
    "#import the cleaned datasets\n",
    "train = pd.read_csv('train_clean.csv')\n",
    "test = pd.read_csv('test_clean.csv')\n",
    "#\n",
    "# Check The Shape Of The Data Loaded\n",
    "print('Train data shape: {} Rows, {} Columns'.format(*train.shape))\n",
    "print('Test data shape: {} Rows, {} Columns'.format(*test.shape))"
   ]
  },
  {
   "cell_type": "markdown",
   "metadata": {},
   "source": [
    "## Feature Importance"
   ]
  },
  {
   "cell_type": "code",
   "execution_count": 3,
   "metadata": {},
   "outputs": [],
   "source": [
    "# modelling \n",
    "import lightgbm as lgb\n",
    "#\n",
    "# utilities\n",
    "from sklearn.model_selection import train_test_split\n",
    "from sklearn.model_selection import KFold\n",
    "from sklearn.metrics import roc_auc_score\n",
    "from sklearn.preprocessing import LabelEncoder"
   ]
  },
  {
   "cell_type": "code",
   "execution_count": 4,
   "metadata": {},
   "outputs": [
    {
     "data": {
      "text/html": [
       "<div>\n",
       "<style scoped>\n",
       "    .dataframe tbody tr th:only-of-type {\n",
       "        vertical-align: middle;\n",
       "    }\n",
       "\n",
       "    .dataframe tbody tr th {\n",
       "        vertical-align: top;\n",
       "    }\n",
       "\n",
       "    .dataframe thead th {\n",
       "        text-align: right;\n",
       "    }\n",
       "</style>\n",
       "<table border=\"1\" class=\"dataframe\">\n",
       "  <thead>\n",
       "    <tr style=\"text-align: right;\">\n",
       "      <th></th>\n",
       "      <th>region</th>\n",
       "      <th>tarif_type</th>\n",
       "      <th>counter_number</th>\n",
       "      <th>counter_statue</th>\n",
       "      <th>counter_code</th>\n",
       "      <th>counter_coefficient</th>\n",
       "      <th>consommation_level_1</th>\n",
       "      <th>consommation_level_2</th>\n",
       "      <th>consommation_level_3</th>\n",
       "      <th>consommation_level_4</th>\n",
       "      <th>...</th>\n",
       "      <th>counter_number_freq_code</th>\n",
       "      <th>counter_code_freq_code</th>\n",
       "      <th>counter_coefficient_freq_code</th>\n",
       "      <th>counter_statue_freq_code</th>\n",
       "      <th>creation_month_freq_code</th>\n",
       "      <th>creation_year_freq_code</th>\n",
       "      <th>creation_day_freq_code</th>\n",
       "      <th>invoice_month_freq_code</th>\n",
       "      <th>invoice_year_freq_code</th>\n",
       "      <th>invoice_day_freq_code</th>\n",
       "    </tr>\n",
       "  </thead>\n",
       "  <tbody>\n",
       "    <tr>\n",
       "      <th>0</th>\n",
       "      <td>0</td>\n",
       "      <td>3</td>\n",
       "      <td>200222</td>\n",
       "      <td>0</td>\n",
       "      <td>12</td>\n",
       "      <td>1</td>\n",
       "      <td>-0.462083</td>\n",
       "      <td>-0.094382</td>\n",
       "      <td>-0.11213</td>\n",
       "      <td>-0.060633</td>\n",
       "      <td>...</td>\n",
       "      <td>35</td>\n",
       "      <td>2173804</td>\n",
       "      <td>6413976</td>\n",
       "      <td>6244643</td>\n",
       "      <td>934805</td>\n",
       "      <td>156341</td>\n",
       "      <td>286996</td>\n",
       "      <td>577032</td>\n",
       "      <td>492576</td>\n",
       "      <td>209365</td>\n",
       "    </tr>\n",
       "    <tr>\n",
       "      <th>1</th>\n",
       "      <td>0</td>\n",
       "      <td>3</td>\n",
       "      <td>200222</td>\n",
       "      <td>0</td>\n",
       "      <td>12</td>\n",
       "      <td>1</td>\n",
       "      <td>1.103001</td>\n",
       "      <td>0.061340</td>\n",
       "      <td>-0.11213</td>\n",
       "      <td>-0.060633</td>\n",
       "      <td>...</td>\n",
       "      <td>35</td>\n",
       "      <td>2173804</td>\n",
       "      <td>6413976</td>\n",
       "      <td>6244643</td>\n",
       "      <td>934805</td>\n",
       "      <td>156341</td>\n",
       "      <td>286996</td>\n",
       "      <td>577032</td>\n",
       "      <td>481639</td>\n",
       "      <td>160026</td>\n",
       "    </tr>\n",
       "  </tbody>\n",
       "</table>\n",
       "<p>2 rows × 44 columns</p>\n",
       "</div>"
      ],
      "text/plain": [
       "   region  tarif_type  counter_number  counter_statue  counter_code  \\\n",
       "0       0           3          200222               0            12   \n",
       "1       0           3          200222               0            12   \n",
       "\n",
       "   counter_coefficient  consommation_level_1  consommation_level_2  \\\n",
       "0                    1             -0.462083             -0.094382   \n",
       "1                    1              1.103001              0.061340   \n",
       "\n",
       "   consommation_level_3  consommation_level_4  ...  counter_number_freq_code  \\\n",
       "0              -0.11213             -0.060633  ...                        35   \n",
       "1              -0.11213             -0.060633  ...                        35   \n",
       "\n",
       "   counter_code_freq_code  counter_coefficient_freq_code  \\\n",
       "0                 2173804                        6413976   \n",
       "1                 2173804                        6413976   \n",
       "\n",
       "   counter_statue_freq_code  creation_month_freq_code  \\\n",
       "0                   6244643                    934805   \n",
       "1                   6244643                    934805   \n",
       "\n",
       "   creation_year_freq_code  creation_day_freq_code  invoice_month_freq_code  \\\n",
       "0                   156341                  286996                   577032   \n",
       "1                   156341                  286996                   577032   \n",
       "\n",
       "   invoice_year_freq_code  invoice_day_freq_code  \n",
       "0                  492576                 209365  \n",
       "1                  481639                 160026  \n",
       "\n",
       "[2 rows x 44 columns]"
      ]
     },
     "metadata": {},
     "output_type": "display_data"
    }
   ],
   "source": [
    "y = train[['target']].astype(int)\n",
    "#label encode\n",
    "lab_enc = LabelEncoder()\n",
    "y = lab_enc.fit_transform(y)\n",
    "#\n",
    "X = train.drop(['target', 'client_id'], axis=1)\n",
    "display(X.head(2))"
   ]
  },
  {
   "cell_type": "code",
   "execution_count": 5,
   "metadata": {},
   "outputs": [
    {
     "data": {
      "text/plain": [
       "LGBMClassifier(boosting_type='goss', class_weight='balanced', n_estimators=1000,\n",
       "               objective='binary')"
      ]
     },
     "execution_count": 5,
     "metadata": {},
     "output_type": "execute_result"
    }
   ],
   "source": [
    "# Create the model with several hyperparameters\n",
    "model = lgb.LGBMClassifier(objective='binary', \n",
    "                           boosting_type = 'goss', \n",
    "                           n_estimators = 1000, \n",
    "                           class_weight = 'balanced')\n",
    "#\n",
    "# Split into training and validation set\n",
    "train_features, valid_features, train_y, valid_y = train_test_split(X, y, test_size = 0.3, random_state = 27)\n",
    "# Train using early stopping\n",
    "model.fit(train_features, train_y, \n",
    "          eval_metric = 'binary_logloss', \n",
    "          verbose = 20)"
   ]
  },
  {
   "cell_type": "markdown",
   "metadata": {},
   "source": [
    "## Percentage feature Importance"
   ]
  },
  {
   "cell_type": "code",
   "execution_count": 6,
   "metadata": {},
   "outputs": [],
   "source": [
    "#define a function to create variable importance dataframe\n",
    "def get_lgbm_varimp(model, train_columns, max_vars=50):\n",
    "    \n",
    "    # Scikit-learn API LGBMClassifier or LGBMRegressor was fitted, \n",
    "    # so using feature_importances_ property\n",
    "    feature_importances_perc = (model.feature_importances_ / sum(model.feature_importances_)) * 100 \n",
    "    cv_varimp_df = pd.DataFrame([train_columns, feature_importances_perc]).T\n",
    "\n",
    "    cv_varimp_df.columns = ['feature_name', 'varimp (%)']\n",
    "\n",
    "    cv_varimp_df.sort_values(by='varimp (%)', ascending=False, inplace=True)\n",
    "\n",
    "    cv_varimp_df = cv_varimp_df.iloc[0:max_vars]   \n",
    "\n",
    "    return cv_varimp_df"
   ]
  },
  {
   "cell_type": "code",
   "execution_count": 7,
   "metadata": {},
   "outputs": [
    {
     "data": {
      "text/html": [
       "<div>\n",
       "<style scoped>\n",
       "    .dataframe tbody tr th:only-of-type {\n",
       "        vertical-align: middle;\n",
       "    }\n",
       "\n",
       "    .dataframe tbody tr th {\n",
       "        vertical-align: top;\n",
       "    }\n",
       "\n",
       "    .dataframe thead th {\n",
       "        text-align: right;\n",
       "    }\n",
       "</style>\n",
       "<table border=\"1\" class=\"dataframe\">\n",
       "  <thead>\n",
       "    <tr style=\"text-align: right;\">\n",
       "      <th></th>\n",
       "      <th>feature_name</th>\n",
       "      <th>varimp (%)</th>\n",
       "    </tr>\n",
       "  </thead>\n",
       "  <tbody>\n",
       "    <tr>\n",
       "      <th>34</th>\n",
       "      <td>counter_number_freq_code</td>\n",
       "      <td>14.41</td>\n",
       "    </tr>\n",
       "    <tr>\n",
       "      <th>2</th>\n",
       "      <td>counter_number</td>\n",
       "      <td>13.2367</td>\n",
       "    </tr>\n",
       "    <tr>\n",
       "      <th>26</th>\n",
       "      <td>creation_year</td>\n",
       "      <td>9.14</td>\n",
       "    </tr>\n",
       "    <tr>\n",
       "      <th>28</th>\n",
       "      <td>creation_day</td>\n",
       "      <td>8.29333</td>\n",
       "    </tr>\n",
       "    <tr>\n",
       "      <th>39</th>\n",
       "      <td>creation_year_freq_code</td>\n",
       "      <td>7.46667</td>\n",
       "    </tr>\n",
       "    <tr>\n",
       "      <th>40</th>\n",
       "      <td>creation_day_freq_code</td>\n",
       "      <td>7.00667</td>\n",
       "    </tr>\n",
       "    <tr>\n",
       "      <th>27</th>\n",
       "      <td>creation_month</td>\n",
       "      <td>6.40667</td>\n",
       "    </tr>\n",
       "    <tr>\n",
       "      <th>0</th>\n",
       "      <td>region</td>\n",
       "      <td>6.04</td>\n",
       "    </tr>\n",
       "    <tr>\n",
       "      <th>32</th>\n",
       "      <td>region_freq_code</td>\n",
       "      <td>5.3</td>\n",
       "    </tr>\n",
       "    <tr>\n",
       "      <th>38</th>\n",
       "      <td>creation_month_freq_code</td>\n",
       "      <td>2.77</td>\n",
       "    </tr>\n",
       "    <tr>\n",
       "      <th>35</th>\n",
       "      <td>counter_code_freq_code</td>\n",
       "      <td>2.52333</td>\n",
       "    </tr>\n",
       "    <tr>\n",
       "      <th>4</th>\n",
       "      <td>counter_code</td>\n",
       "      <td>2.36333</td>\n",
       "    </tr>\n",
       "    <tr>\n",
       "      <th>10</th>\n",
       "      <td>old_index</td>\n",
       "      <td>1.87</td>\n",
       "    </tr>\n",
       "    <tr>\n",
       "      <th>11</th>\n",
       "      <td>new_index</td>\n",
       "      <td>1.65667</td>\n",
       "    </tr>\n",
       "    <tr>\n",
       "      <th>6</th>\n",
       "      <td>consommation_level_1</td>\n",
       "      <td>1.21</td>\n",
       "    </tr>\n",
       "    <tr>\n",
       "      <th>1</th>\n",
       "      <td>tarif_type</td>\n",
       "      <td>1.18333</td>\n",
       "    </tr>\n",
       "    <tr>\n",
       "      <th>29</th>\n",
       "      <td>invoice_year</td>\n",
       "      <td>1.15667</td>\n",
       "    </tr>\n",
       "    <tr>\n",
       "      <th>15</th>\n",
       "      <td>disrict_69</td>\n",
       "      <td>0.92</td>\n",
       "    </tr>\n",
       "    <tr>\n",
       "      <th>33</th>\n",
       "      <td>tarif_type_freq_code</td>\n",
       "      <td>0.853333</td>\n",
       "    </tr>\n",
       "    <tr>\n",
       "      <th>13</th>\n",
       "      <td>disrict_62</td>\n",
       "      <td>0.796667</td>\n",
       "    </tr>\n",
       "    <tr>\n",
       "      <th>14</th>\n",
       "      <td>disrict_63</td>\n",
       "      <td>0.703333</td>\n",
       "    </tr>\n",
       "    <tr>\n",
       "      <th>12</th>\n",
       "      <td>months_number</td>\n",
       "      <td>0.66</td>\n",
       "    </tr>\n",
       "    <tr>\n",
       "      <th>31</th>\n",
       "      <td>invoice_day</td>\n",
       "      <td>0.613333</td>\n",
       "    </tr>\n",
       "    <tr>\n",
       "      <th>17</th>\n",
       "      <td>client_catg_51</td>\n",
       "      <td>0.573333</td>\n",
       "    </tr>\n",
       "    <tr>\n",
       "      <th>43</th>\n",
       "      <td>invoice_day_freq_code</td>\n",
       "      <td>0.46</td>\n",
       "    </tr>\n",
       "    <tr>\n",
       "      <th>16</th>\n",
       "      <td>client_catg_12</td>\n",
       "      <td>0.446667</td>\n",
       "    </tr>\n",
       "    <tr>\n",
       "      <th>3</th>\n",
       "      <td>counter_statue</td>\n",
       "      <td>0.416667</td>\n",
       "    </tr>\n",
       "    <tr>\n",
       "      <th>7</th>\n",
       "      <td>consommation_level_2</td>\n",
       "      <td>0.403333</td>\n",
       "    </tr>\n",
       "    <tr>\n",
       "      <th>30</th>\n",
       "      <td>invoice_month</td>\n",
       "      <td>0.253333</td>\n",
       "    </tr>\n",
       "    <tr>\n",
       "      <th>42</th>\n",
       "      <td>invoice_year_freq_code</td>\n",
       "      <td>0.19</td>\n",
       "    </tr>\n",
       "    <tr>\n",
       "      <th>41</th>\n",
       "      <td>invoice_month_freq_code</td>\n",
       "      <td>0.17</td>\n",
       "    </tr>\n",
       "    <tr>\n",
       "      <th>9</th>\n",
       "      <td>consommation_level_4</td>\n",
       "      <td>0.116667</td>\n",
       "    </tr>\n",
       "    <tr>\n",
       "      <th>21</th>\n",
       "      <td>reading_remarque_9</td>\n",
       "      <td>0.0966667</td>\n",
       "    </tr>\n",
       "    <tr>\n",
       "      <th>18</th>\n",
       "      <td>reading_remarque_6</td>\n",
       "      <td>0.08</td>\n",
       "    </tr>\n",
       "    <tr>\n",
       "      <th>37</th>\n",
       "      <td>counter_statue_freq_code</td>\n",
       "      <td>0.0766667</td>\n",
       "    </tr>\n",
       "    <tr>\n",
       "      <th>8</th>\n",
       "      <td>consommation_level_3</td>\n",
       "      <td>0.0666667</td>\n",
       "    </tr>\n",
       "    <tr>\n",
       "      <th>20</th>\n",
       "      <td>reading_remarque_8</td>\n",
       "      <td>0.0633333</td>\n",
       "    </tr>\n",
       "    <tr>\n",
       "      <th>36</th>\n",
       "      <td>counter_coefficient_freq_code</td>\n",
       "      <td>0.00666667</td>\n",
       "    </tr>\n",
       "    <tr>\n",
       "      <th>5</th>\n",
       "      <td>counter_coefficient</td>\n",
       "      <td>0</td>\n",
       "    </tr>\n",
       "    <tr>\n",
       "      <th>25</th>\n",
       "      <td>counter_type_GAZ</td>\n",
       "      <td>0</td>\n",
       "    </tr>\n",
       "    <tr>\n",
       "      <th>24</th>\n",
       "      <td>reading_remarque_413</td>\n",
       "      <td>0</td>\n",
       "    </tr>\n",
       "    <tr>\n",
       "      <th>19</th>\n",
       "      <td>reading_remarque_7</td>\n",
       "      <td>0</td>\n",
       "    </tr>\n",
       "    <tr>\n",
       "      <th>23</th>\n",
       "      <td>reading_remarque_207</td>\n",
       "      <td>0</td>\n",
       "    </tr>\n",
       "    <tr>\n",
       "      <th>22</th>\n",
       "      <td>reading_remarque_203</td>\n",
       "      <td>0</td>\n",
       "    </tr>\n",
       "  </tbody>\n",
       "</table>\n",
       "</div>"
      ],
      "text/plain": [
       "                     feature_name  varimp (%)\n",
       "34       counter_number_freq_code       14.41\n",
       "2                  counter_number     13.2367\n",
       "26                  creation_year        9.14\n",
       "28                   creation_day     8.29333\n",
       "39        creation_year_freq_code     7.46667\n",
       "40         creation_day_freq_code     7.00667\n",
       "27                 creation_month     6.40667\n",
       "0                          region        6.04\n",
       "32               region_freq_code         5.3\n",
       "38       creation_month_freq_code        2.77\n",
       "35         counter_code_freq_code     2.52333\n",
       "4                    counter_code     2.36333\n",
       "10                      old_index        1.87\n",
       "11                      new_index     1.65667\n",
       "6            consommation_level_1        1.21\n",
       "1                      tarif_type     1.18333\n",
       "29                   invoice_year     1.15667\n",
       "15                     disrict_69        0.92\n",
       "33           tarif_type_freq_code    0.853333\n",
       "13                     disrict_62    0.796667\n",
       "14                     disrict_63    0.703333\n",
       "12                  months_number        0.66\n",
       "31                    invoice_day    0.613333\n",
       "17                 client_catg_51    0.573333\n",
       "43          invoice_day_freq_code        0.46\n",
       "16                 client_catg_12    0.446667\n",
       "3                  counter_statue    0.416667\n",
       "7            consommation_level_2    0.403333\n",
       "30                  invoice_month    0.253333\n",
       "42         invoice_year_freq_code        0.19\n",
       "41        invoice_month_freq_code        0.17\n",
       "9            consommation_level_4    0.116667\n",
       "21             reading_remarque_9   0.0966667\n",
       "18             reading_remarque_6        0.08\n",
       "37       counter_statue_freq_code   0.0766667\n",
       "8            consommation_level_3   0.0666667\n",
       "20             reading_remarque_8   0.0633333\n",
       "36  counter_coefficient_freq_code  0.00666667\n",
       "5             counter_coefficient           0\n",
       "25               counter_type_GAZ           0\n",
       "24           reading_remarque_413           0\n",
       "19             reading_remarque_7           0\n",
       "23           reading_remarque_207           0\n",
       "22           reading_remarque_203           0"
      ]
     },
     "execution_count": 7,
     "metadata": {},
     "output_type": "execute_result"
    }
   ],
   "source": [
    "train_names = ['region', 'tarif_type', 'counter_number', 'counter_statue',\n",
    "       'counter_code', 'counter_coefficient', 'consommation_level_1',\n",
    "       'consommation_level_2', 'consommation_level_3', 'consommation_level_4',\n",
    "       'old_index', 'new_index', 'months_number', 'disrict_62', 'disrict_63',\n",
    "       'disrict_69', 'client_catg_12', 'client_catg_51', 'reading_remarque_6',\n",
    "       'reading_remarque_7', 'reading_remarque_8', 'reading_remarque_9',\n",
    "       'reading_remarque_203', 'reading_remarque_207', 'reading_remarque_413',\n",
    "       'counter_type_GAZ', 'creation_year', 'creation_month', 'creation_day',\n",
    "       'invoice_year', 'invoice_month', 'invoice_day', 'region_freq_code',\n",
    "       'tarif_type_freq_code', 'counter_number_freq_code',\n",
    "       'counter_code_freq_code', 'counter_coefficient_freq_code',\n",
    "       'counter_statue_freq_code', 'creation_month_freq_code',\n",
    "       'creation_year_freq_code', 'creation_day_freq_code',\n",
    "       'invoice_month_freq_code', 'invoice_year_freq_code',\n",
    "       'invoice_day_freq_code']\n",
    "#\n",
    "get_lgbm_varimp(model, train_names)"
   ]
  },
  {
   "cell_type": "code",
   "execution_count": 8,
   "metadata": {},
   "outputs": [
    {
     "data": {
      "image/png": "[encoded data removed]",
      "text/plain": [
       "<Figure size 1080x720 with 1 Axes>"
      ]
     },
     "metadata": {
      "needs_background": "light"
     },
     "output_type": "display_data"
    }
   ],
   "source": [
    "#plot the variable importance\n",
    "import matplotlib.pyplot as plt \n",
    "%matplotlib inline\n",
    "ax=lgb.plot_importance(model, max_num_features=40, figsize=(15,10))\n",
    "plt.show()"
   ]
  },
  {
   "cell_type": "code",
   "execution_count": 9,
   "metadata": {},
   "outputs": [],
   "source": [
    "#drop irrelevant columns/variables from X features\n",
    "columns = ['counter_coefficient', 'counter_type_GAZ', 'reading_remarque_413', 'reading_remarque_7','reading_remarque_207', \n",
    "           'reading_remarque_203']\n",
    "#\n",
    "X.drop(columns, inplace=True, axis=1)"
   ]
  },
  {
   "cell_type": "markdown",
   "metadata": {},
   "source": [
    "### Check for imbalance in the target variable"
   ]
  },
  {
   "cell_type": "code",
   "execution_count": 10,
   "metadata": {
    "scrolled": true
   },
   "outputs": [
    {
     "name": "stdout",
     "output_type": "stream",
     "text": [
      "Class=0, n=4123629 (92.112%)\n",
      "Class=1, n=353109 (7.888%)\n"
     ]
    },
    {
     "data": {
      "image/png": "[encoded data removed]",
      "text/plain": [
       "<Figure size 432x288 with 1 Axes>"
      ]
     },
     "metadata": {
      "needs_background": "light"
     },
     "output_type": "display_data"
    }
   ],
   "source": [
    "from collections import Counter\n",
    "import matplotlib.pyplot as plt\n",
    "# summarize distribution\n",
    "counter = Counter(y)\n",
    "for k,v in counter.items():\n",
    "    per = v / len(y) * 100\n",
    "    print('Class=%d, n=%d (%.3f%%)' % (k, v, per))\n",
    "#\n",
    "#plot the distribution\n",
    "plt.bar(counter.keys(), counter.values())\n",
    "plt.show()"
   ]
  },
  {
   "cell_type": "markdown",
   "metadata": {},
   "source": [
    "One class has more observations than the other, balancing the data would normalise significant the difference in classes"
   ]
  },
  {
   "cell_type": "code",
   "execution_count": 11,
   "metadata": {},
   "outputs": [],
   "source": [
    "# #oversample the data to balance the target variable\n",
    "# from imblearn.over_sampling import SMOTE\n",
    "# # transform the dataset\n",
    "# oversample = SMOTE()\n",
    "# X, y = oversample.fit_resample(X, y)"
   ]
  },
  {
   "cell_type": "code",
   "execution_count": 12,
   "metadata": {},
   "outputs": [],
   "source": [
    "# from collections import Counter\n",
    "# import matplotlib.pyplot as plt\n",
    "# # summarize distribution\n",
    "# counter = Counter(y)\n",
    "# for k,v in counter.items():\n",
    "#     per = v / len(y) * 100\n",
    "#     print('Class=%d, n=%d (%.3f%%)' % (k, v, per))\n",
    "# #plot the distribution\n",
    "# plt.bar(counter.keys(), counter.values())\n",
    "# plt.show()"
   ]
  },
  {
   "cell_type": "markdown",
   "metadata": {},
   "source": [
    "## Model Selection\n",
    "\n",
    "Calculate the baseline acacuracy"
   ]
  },
  {
   "cell_type": "code",
   "execution_count": 13,
   "metadata": {},
   "outputs": [
    {
     "name": "stdout",
     "output_type": "stream",
     "text": [
      "Log Loss:  0.23665611138909623\n",
      "Accuracy:  0.9233348374040038\n"
     ]
    }
   ],
   "source": [
    "#split model\n",
    "import random\n",
    "random.seed(1234)\n",
    "x_train, x_valid, y_train, y_valid = train_test_split(X, y, test_size=0.3, random_state=42)\n",
    "#\n",
    "#model the training set and calculate the metrics\n",
    "clf = lgb.LGBMClassifier().fit(x_train, y_train)\n",
    "#\n",
    "from sklearn.metrics import log_loss, accuracy_score\n",
    "print('Log Loss: ', log_loss(y_valid, clf.predict_proba(x_valid)))\n",
    "print('Accuracy: ', accuracy_score(y_valid, clf.predict(x_valid)))"
   ]
  },
  {
   "cell_type": "code",
   "execution_count": 14,
   "metadata": {},
   "outputs": [],
   "source": [
    "from sklearn.linear_model import LogisticRegression\n",
    "from sklearn.ensemble import RandomForestClassifier, AdaBoostClassifier, GradientBoostingClassifier\n",
    "from sklearn.svm import SVC\n",
    "from catboost import CatBoostClassifier\n",
    "from xgboost import XGBClassifier\n",
    "from sklearn.neighbors import KNeighborsClassifier\n",
    "import lightgbm as lgb\n",
    "from sklearn.neural_network import MLPClassifier #Neural networks\n",
    "from sklearn.tree import DecisionTreeClassifier \n",
    "from sklearn.model_selection import cross_val_score\n",
    "from sklearn.metrics import log_loss, accuracy_score\n",
    "#\n",
    "models = [\n",
    "    RandomForestClassifier(n_estimators=100, max_depth=2, random_state=0),\n",
    "    SVC(decision_function_shape=\"ovr\"),\n",
    "    LogisticRegression(random_state=0, solver='lbfgs', multi_class='ovr'),\n",
    "    AdaBoostClassifier(),\n",
    "    CatBoostClassifier(iterations=300, depth=6, learning_rate=0.1, logging_level='Silent',\n",
    "                        eval_metric='Accuracy', random_state=42),\n",
    "    KNeighborsClassifier(),\n",
    "    GradientBoostingClassifier(),\n",
    "    XGBClassifier(objective='binary:logistic', loss_function='Logloss', eval_metric='logloss', learning_rate=0.1, max_depth=4, \n",
    "                  seed=27, n_estimators=20),\n",
    "    lgb.LGBMClassifier(objective='binary', \n",
    "                           boosting_type = 'goss', \n",
    "                           n_estimators = 1000, \n",
    "                           class_weight = 'balanced'),\n",
    "    MLPClassifier(solver='lbfgs', alpha=1e-5, hidden_layer_sizes=(150, 10), random_state=1),\n",
    "    DecisionTreeClassifier(max_depth = 2)\n",
    "]\n",
    "#\n",
    "CV = 5\n",
    "cv_df = pd.DataFrame(index=range(CV * len(models)))\n",
    "entries = []\n",
    "for model in models:\n",
    "    model_name = model.__class__.__name__\n",
    "    accuracies = cross_val_score(model, X, y, scoring='accuracy', cv=CV)\n",
    "    for fold_idx, accuracy in enumerate(accuracies):\n",
    "        entries.append((model_name, fold_idx, accuracy))\n",
    "cv_df = pd.DataFrame(entries, columns=['model_name', 'fold_idx', 'accuracy'])\n",
    "print(cv_df.groupby('model_name').accuracy.mean().sort_values())"
   ]
  },
  {
   "cell_type": "code",
   "execution_count": 15,
   "metadata": {},
   "outputs": [],
   "source": [
    "fig, ax = plt.subplots()\n",
    "fig.set_size_inches(20,8)\n",
    "sns.boxplot(x='model_name', y='accuracy', data=cv_df)\n",
    "sns.stripplot(x='model_name', y='accuracy', data=cv_df, \n",
    "              size=8, jitter=True, edgecolor=\"gray\", linewidth=2)\n",
    "ax.set_xticklabels(ax.get_xticklabels(), rotation=45)\n",
    "plt.show()"
   ]
  },
  {
   "cell_type": "markdown",
   "metadata": {},
   "source": [
    "## 1. Random Forest Classifier"
   ]
  },
  {
   "cell_type": "code",
   "execution_count": null,
   "metadata": {},
   "outputs": [],
   "source": [
    "from sklearn.ensemble import RandomForestClassifier\n",
    "rf=RandomForestClassifier(n_estimators=1500, class_weight='balanced')\n",
    "rf.fit(x_train, y_train)\n",
    "#\n",
    "rf_pred=rf.predict(x_valid)\n",
    "#\n",
    "print('Log Loss: ', log_loss(y_valid, rf.predict_proba(x_valid)))\n",
    "print(\"Accuracy:\", accuracy_score(y_valid, rf_pred))\n",
    "#\n",
    "from sklearn.metrics import mean_squared_error, classification_report\n",
    "mse=mean_squared_error(y_valid, rf_pred)\n",
    "print('RandomForest-RMSE: ', np.sqrt(mse))\n",
    "#\n",
    "#classification Report\n",
    "print(classification_report(y_valid, rf_pred))"
   ]
  },
  {
   "cell_type": "markdown",
   "metadata": {},
   "source": [
    "## 2. LightGBM Classifier"
   ]
  },
  {
   "cell_type": "code",
   "execution_count": null,
   "metadata": {},
   "outputs": [],
   "source": [
    "import lightgbm as lgb\n",
    "lgbm=lgb.LGBMClassifier(objective='binary', \n",
    "                           boosting_type = 'goss', \n",
    "                           n_estimators = 1000, \n",
    "                           class_weight = 'balanced')\n",
    "lgbm.fit(x_train, y_train)\n",
    "#\n",
    "lgbm_pred=lgbm.predict(x_valid)\n",
    "#\n",
    "print('Log Loss: ', log_loss(y_valid, lgbm.predict_proba(x_valid)))\n",
    "print(\"Accuracy:\", accuracy_score(y_valid, lgbm_pred))\n",
    "#\n",
    "from sklearn.metrics import mean_squared_error, classification_report\n",
    "mse=mean_squared_error(y_valid, lgbm_pred)\n",
    "print('RandomForest-RMSE: ', np.sqrt(mse))\n",
    "#\n",
    "#classification Report\n",
    "print(classification_report(y_valid, lgbm_pred))"
   ]
  },
  {
   "cell_type": "markdown",
   "metadata": {},
   "source": [
    "## 3. Catboost Classifier"
   ]
  },
  {
   "cell_type": "code",
   "execution_count": null,
   "metadata": {},
   "outputs": [],
   "source": [
    "from catboost import CatBoostClassifier\n",
    "cat=CatBoostClassifier(iterations=300, depth=6, learning_rate=0.1, logging_level='Silent',\n",
    "                        eval_metric='Accuracy', random_state=42)\n",
    "cat.fit(x_train, y_train)\n",
    "#\n",
    "cat_pred=cat.predict(x_valid)\n",
    "#\n",
    "print('Log Loss: ', log_loss(y_valid, cat.predict_proba(x_valid)))\n",
    "print(\"Accuracy:\", accuracy_score(y_valid, cat_pred))\n",
    "#\n",
    "from sklearn.metrics import mean_squared_error, classification_report\n",
    "mse=mean_squared_error(y_valid, cat_pred)\n",
    "print('RandomForest-RMSE: ', np.sqrt(mse))\n",
    "#\n",
    "#classification Report\n",
    "print(classification_report(y_valid, cat_pred))"
   ]
  },
  {
   "cell_type": "markdown",
   "metadata": {},
   "source": [
    "### Predict Test Data"
   ]
  },
  {
   "cell_type": "code",
   "execution_count": null,
   "metadata": {},
   "outputs": [],
   "source": [
    "#drop irrelevant columns/variables from X features\n",
    "columns = ['counter_coefficient', 'counter_type_GAZ', 'reading_remarque_413', 'reading_remarque_7','reading_remarque_207', \n",
    "           'reading_remarque_203', 'client_id']\n",
    "#\n",
    "test.drop(columns, inplace=True, axis=1)"
   ]
  },
  {
   "cell_type": "code",
   "execution_count": null,
   "metadata": {},
   "outputs": [],
   "source": []
  }
 ],
 "metadata": {
  "kernelspec": {
   "display_name": "Python 3",
   "language": "python",
   "name": "python3"
  },
  "language_info": {
   "codemirror_mode": {
    "name": "ipython",
    "version": 3
   },
   "file_extension": ".py",
   "mimetype": "text/x-python",
   "name": "python",
   "nbconvert_exporter": "python",
   "pygments_lexer": "ipython3",
   "version": "3.7.4"
  }
 },
 "nbformat": 4,
 "nbformat_minor": 2
}
